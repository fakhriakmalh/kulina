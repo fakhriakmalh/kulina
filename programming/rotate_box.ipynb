{
 "cells": [
  {
   "cell_type": "code",
   "execution_count": 11,
   "metadata": {},
   "outputs": [],
   "source": [
    "x = [2,3,5,3,1,1]\n",
    "\n",
    "#function to know the condition of the box\n",
    "def shuffle(x,k,num) : \n",
    "    num = len(x)\n",
    "    z = []\n",
    "    #case when k is even\n",
    "    if k%2==0 :\n",
    "        x.sort(reverse=True)\n",
    "        return x\n",
    "    #case when k is odd\n",
    "    else :\n",
    "        for i in range(len(x)) : \n",
    "            x = [k-1 for k in x]\n",
    "            #we count if i >= 0 \n",
    "            count = 0 \n",
    "            for i in x : \n",
    "                if i >= 0 : \n",
    "                    count +=1\n",
    "            z.append(count)\n",
    "            if 0 in z : \n",
    "                z = z[:z.index(min(z))]\n",
    "        return z"
   ]
  },
  {
   "cell_type": "code",
   "execution_count": 12,
   "metadata": {},
   "outputs": [
    {
     "data": {
      "text/plain": [
       "[6, 4, 3, 1, 1]"
      ]
     },
     "execution_count": 12,
     "metadata": {},
     "output_type": "execute_result"
    }
   ],
   "source": [
    "shuffle(x,3,6)"
   ]
  }
 ],
 "metadata": {
  "kernelspec": {
   "display_name": "Python 3",
   "language": "python",
   "name": "python3"
  },
  "language_info": {
   "codemirror_mode": {
    "name": "ipython",
    "version": 3
   },
   "file_extension": ".py",
   "mimetype": "text/x-python",
   "name": "python",
   "nbconvert_exporter": "python",
   "pygments_lexer": "ipython3",
   "version": "3.7.1"
  }
 },
 "nbformat": 4,
 "nbformat_minor": 2
}
